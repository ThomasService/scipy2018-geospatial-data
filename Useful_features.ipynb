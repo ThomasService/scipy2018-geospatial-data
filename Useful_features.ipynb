{
 "cells": [
  {
   "cell_type": "markdown",
   "id": "062a43cb-9f23-469f-ad06-ec3bbead9ca5",
   "metadata": {},
   "source": [
    "## **A few useful features from the exercises**"
   ]
  },
  {
   "cell_type": "markdown",
   "id": "2eb39c14-16bb-49c1-b75f-c234315d782a",
   "metadata": {},
   "source": [
    "#### Conflict mapping"
   ]
  },
  {
   "cell_type": "code",
   "execution_count": null,
   "id": "8302330f-a770-41e4-892a-232072e9c024",
   "metadata": {},
   "outputs": [],
   "source": [
    "import zipfile\n",
    "import glob\n",
    "\n",
    "# Extracting .zip files in python\n",
    "\n",
    "files = glob.glob(\"data/*.zip\")\n",
    "\n",
    "for file in files:\n",
    "    with zipfile.ZipFile(file, 'r') as zip_ref:\n",
    "        zip_ref.extractall(\"data/raw\")"
   ]
  },
  {
   "cell_type": "code",
   "execution_count": null,
   "id": "e0e050a4-12a9-428f-bf90-730d88ee57d8",
   "metadata": {},
   "outputs": [],
   "source": [
    "# Extracting data using the .str.contains method\n",
    "data_ipis = data_visits[data_visits['project'].str.contains('IPIS')]"
   ]
  },
  {
   "cell_type": "code",
   "execution_count": null,
   "id": "8c84af7e-40c5-401a-a646-0b0e04a1d4a6",
   "metadata": {},
   "outputs": [],
   "source": [
    "# For those mining sites that were visited multiple times, take only the last visit\n",
    "# Sort values (so they are ascending), group by mine name, select the last value i.e. most recent\n",
    "data_ipis_lastvisit = data_ipis.sort_values('visit_date').groupby('pcode', as_index=False).last()\n",
    "# Have to reconvert to dataframe since the groupby remove this geometry\n",
    "data = geopandas.GeoDataFrame(data_ipis_lastvisit)\n",
    "# Have to define a crs\n",
    "data.crs = data_visits.crs"
   ]
  },
  {
   "cell_type": "code",
   "execution_count": null,
   "id": "e7c3f05b-a5bc-43d3-9850-97da209dcf24",
   "metadata": {},
   "outputs": [],
   "source": [
    "# Have to access the geometry of the attributes then squeeze them to create an individual polygon that can be used for further calculations (e.g. within)\n",
    "# This creates a single Shapely Polygon feature in this case\n",
    "kahuzi = protected_areas_utm[protected_areas_utm['NAME_AP'] == \"Kahuzi-Biega National park\"].geometry.squeeze()"
   ]
  },
  {
   "cell_type": "code",
   "execution_count": null,
   "id": "f9abfc4d-6089-4e2b-b800-73d0e42a8e3c",
   "metadata": {},
   "outputs": [],
   "source": [
    "# Extracting/subsetting features from a geodataframe based on a geometric predicate on the same geodataframe\n",
    "mines_kahuzi = data_utm[data_utm.within(kahuzi)]"
   ]
  },
  {
   "cell_type": "code",
   "execution_count": null,
   "id": "74090443-f788-4585-b2de-edeaff654b2a",
   "metadata": {},
   "outputs": [],
   "source": [
    "# Take an individual geometry and a geometry collection\n",
    "def closest_protected_area(mine, protected_areas):\n",
    "    # Calculate distances from the geometry to each geometry in the collection\n",
    "    dist = protected_areas.distance(mine)\n",
    "    # Extract the index at the minimum value\n",
    "    idx = dist.idxmin()\n",
    "    # Extract the name of the feature at this index\n",
    "    closest_area = protected_areas.loc[idx, 'NAME_AP']\n",
    "    return closest_area\n",
    "\n",
    "# .apply on the geometry column with a lambda function. For each site, run the function for that site and the protected_areas_utm file\n",
    "result = data_utm.geometry.apply(lambda site: closest_protected_area(site, protected_areas_utm))"
   ]
  },
  {
   "cell_type": "code",
   "execution_count": null,
   "id": "7793cb75-1b02-4e74-946a-91e6845a53a2",
   "metadata": {},
   "outputs": [],
   "source": [
    "# Spatial join on two geodataframes (subsetting one geodataframe to reduce cluttering)\n",
    "# Within predicate selecting only values which appear in both dataframes (inner)\n",
    "data_within_protected = geopandas.sjoin(data_utm, protected_areas_utm[['NAME_AP', 'geometry']],\n",
    "                                        predicate='within', how='inner')"
   ]
  },
  {
   "cell_type": "code",
   "execution_count": null,
   "id": "f6fd8ce1-2c87-429d-af61-ea78034034c0",
   "metadata": {},
   "outputs": [],
   "source": [
    "# Two means of getting the count of each value according to a category\n",
    "data_within_protected.groupby(\"NAME_AP\").size()\n",
    "data_within_protected[\"NAME_AP\"].value_counts()\n",
    "\n",
    "# Another useful way of doing a quick query on an individual column according to categories (protected areas)\n",
    "data_within_protected.groupby(\"NAME_AP\")[\"workers_numb\"].sum()"
   ]
  },
  {
   "cell_type": "code",
   "execution_count": null,
   "id": "27dd69a9-36a2-4184-a057-a71e1fb448bf",
   "metadata": {},
   "outputs": [],
   "source": [
    "# Creating a copy of features to reduce cluttering without overwriting the original data\n",
    "protected_areas_border = protected_areas_utm[['NAME_AP', 'geometry']].copy()"
   ]
  },
  {
   "cell_type": "code",
   "execution_count": null,
   "id": "3e1df7af-3828-4d6e-b3e5-ecb9e0645af5",
   "metadata": {},
   "outputs": [],
   "source": [
    "# A buffer then a difference calculation to extract the 10000m border around the features\n",
    "# Have to pass the original features as a unary_union (multipary feature?) possibly because of geometry errors\n",
    "protected_areas_border['geometry'] = protected_areas_border.buffer(10000).difference(protected_areas_utm.unary_union)"
   ]
  },
  {
   "cell_type": "code",
   "execution_count": null,
   "id": "0848e91c-ccda-46e2-afb5-95c5b52b20b8",
   "metadata": {},
   "outputs": [],
   "source": [
    "# Another spatial join to extract the features from the data_utm layer within the protected_areas_border layer\n",
    "data_within_border = geopandas.sjoin(data_utm, protected_areas_border,\n",
    "                                     predicate=\"within\", how=\"inner\")"
   ]
  },
  {
   "cell_type": "code",
   "execution_count": null,
   "id": "a9e96a3e-9aa3-437c-9e34-a99b2ab99544",
   "metadata": {},
   "outputs": [],
   "source": [
    "# Constructing a geodataframe from a dataframe with coordinates\n",
    "df = pd.DataFrame(\n",
    "    {'City': ['Buenos Aires', 'Brasilia', 'Santiago', 'Bogota', 'Caracas'],\n",
    "     'Country': ['Argentina', 'Brazil', 'Chile', 'Colombia', 'Venezuela'],\n",
    "     'Latitude': [-34.58, -15.78, -33.45, 4.60, 10.48],\n",
    "     'Longitude': [-58.66, -47.91, -70.66, -74.08, -66.86]})\n",
    "\n",
    "\n",
    "# Create new combined coordinates column by zipping longitude and latitude coordinates\n",
    "df['Coordinates']  = list(zip(df.Longitude, df.Latitude))\n",
    "\n",
    "# Use the shapely Point (or other as required) function to turn these coordinates into geometry features\n",
    "df['Coordinates'] = df['Coordinates'].apply(Point)\n",
    "\n",
    "# Create the geodataframe by specifying the coordinates column as the geometry (will also have to define CRS)\n",
    "gdf = geopandas.GeoDataFrame(df, geometry='Coordinates')"
   ]
  }
 ],
 "metadata": {
  "kernelspec": {
   "display_name": "Python 3 (ipykernel)",
   "language": "python",
   "name": "python3"
  },
  "language_info": {
   "codemirror_mode": {
    "name": "ipython",
    "version": 3
   },
   "file_extension": ".py",
   "mimetype": "text/x-python",
   "name": "python",
   "nbconvert_exporter": "python",
   "pygments_lexer": "ipython3",
   "version": "3.9.13"
  }
 },
 "nbformat": 4,
 "nbformat_minor": 5
}
